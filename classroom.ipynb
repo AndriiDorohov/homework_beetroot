{
 "cells": [
  {
   "cell_type": "code",
   "execution_count": null,
   "id": "ca74ca03",
   "metadata": {},
   "outputs": [
    {
     "name": "stdout",
     "output_type": "stream",
     "text": [
      "Enter country name: Ukraine\n",
      "Ukraine\n",
      "Enter country name: ukraine\n",
      "Ukraine\n"
     ]
    }
   ],
   "source": [
    "# Write a program to display the names of countries in capital letters\n",
    "# which also includes checking the end of the work on the keyword\n",
    "# and skip the output if equal to another keyword\n",
    "\n",
    "while True:\n",
    "    country = input('Enter country name: ')\n",
    "    if country == 'exit':\n",
    "        print('Exit program')\n",
    "        break\n",
    "    elif country == '':\n",
    "        continue\n",
    "    else:\n",
    "        if country.isalpha():\n",
    "            print(country.capitalize())\n",
    "        else:\n",
    "            print('Country name is wrong')"
   ]
  },
  {
   "cell_type": "code",
   "execution_count": null,
   "id": "4a0b8dc0",
   "metadata": {},
   "outputs": [],
   "source": [
    "# Write a python program, which sums all digits in a python string.\n",
    "# Examples, input - ‘1234’, output - 10\n",
    "# Передбачити перевірку наявності символів в рядку (якщо є то символ пропускається)\n",
    "\n",
    "num_list = \"12df4sdsd34r5\"\n",
    "total_sum = 0\n",
    "for x in range(0, len(num_list)):\n",
    "    if num_list[x].isdigit():\n",
    "      total_sum += int(num_list[x])\n",
    "    else:\n",
    "      continue\n",
    "    \n",
    "print(total_sum)"
   ]
  },
  {
   "cell_type": "code",
   "execution_count": null,
   "id": "8b3ec9f4",
   "metadata": {},
   "outputs": [],
   "source": [
    "# Write a Python program to construct the following pattern, using a while loop\n",
    "# *\n",
    "# * *\n",
    "# * * *\n",
    "# * * * *\n",
    "# * * * * *\n",
    "# * * * *\n",
    "# * * *\n",
    "# * *\n",
    "# *\n",
    "# Передбачити задання довжини вершини\n",
    "\n",
    "i = 1\n",
    "j = \"*\"\n",
    "\n",
    "while True:\n",
    "    item_length = int(input(\"Enter an odd number: \"))\n",
    "    if item_length % 2 == 1:\n",
    "        break\n",
    "\n",
    "while i <= item_length:\n",
    "  print(j)\n",
    "  if i < item_length / 2:\n",
    "    j = j + \" *\"\n",
    "  else:\n",
    "    j = j[:-2]\n",
    "  i += 1"
   ]
  },
  {
   "cell_type": "code",
   "execution_count": 6,
   "id": "65d1c10b",
   "metadata": {},
   "outputs": [
    {
     "name": "stdout",
     "output_type": "stream",
     "text": [
      "Error\n",
      "None\n"
     ]
    }
   ],
   "source": [
    "# Create a module for working with different types of data entered from the keyboard\n",
    "# 1. regular reading\n",
    "# 2. Reading integers\n",
    "# 3. reading decimal numbers\n",
    "# 4. read the text and divide it into words (by punctuation marks.\"\", \",\", \"-\")\n",
    "# 5. reading a list of Comma-separated numbers (combine integer and decimal conversions)\n",
    "def str_input():\n",
    "    return input('Enter sentence: ')\n",
    "\n",
    "def int_input(number):\n",
    "    if number.isnumeric():\n",
    "        return int(number)\n",
    "    else:\n",
    "        print('Error')\n",
    "        return None\n",
    "\n",
    "def float_input(number):\n",
    "    number_without_point = number.replace('.', '')\n",
    "    if number_without_point.isnumeric() and '.' in number:\n",
    "        return float(number)\n",
    "    else:\n",
    "        print('Error')\n",
    "        return None\n",
    "\n",
    "def text_input(text):\n",
    "    text = text.replace('.', ' ').replace(',', ' ').replace('-', ' ').replace('  ', ' ')\n",
    "    return text.split(' ')\n",
    "\n",
    "def numbers_input(numbers):\n",
    "    numbers = numbers.split(',')\n",
    "    for position in range(len(numbers)):\n",
    "        if '.' in numbers[position]:\n",
    "            numbers[position] = float_input(numbers[position])\n",
    "        else:\n",
    "            numbers[position] = int_input(numbers[position])\n",
    "    return numbers\n",
    "\n",
    "def numbers_list_input(numbers):\n",
    "    numbers = numbers.split(',')\n",
    "    count = 0\n",
    "    while count < len(numbers):\n",
    "        if '.' in numbers[count]:\n",
    "            print(float_input(numbers[count]))\n",
    "        else:\n",
    "            print(int_input(numbers[count]))\n",
    "        count += 1\n",
    "        \n",
    "if __name__ == '__main__':\n",
    "    numbers = input('Enter numbers: ')\n",
    "    numbers_list_input(numbers)"
   ]
  },
  {
   "cell_type": "code",
   "execution_count": 31,
   "id": "da936596",
   "metadata": {},
   "outputs": [
    {
     "name": "stdout",
     "output_type": "stream",
     "text": [
      "[12, 4, 3, 9, 88, 72, 1, 0]\n",
      "[88, 72, 12, 9, 4, 3, 1, 0]\n",
      "88721294310\n",
      "88+72+12+9+4+3+1+0\n"
     ]
    }
   ],
   "source": [
    "# You must read a string of 5 digits separated by spaces and save each digit to the list.\n",
    "# Create a copy of the list with the items ordered in reverse order.\n",
    "# Print the number that is formed by combining the elements of the new list, as well as the sum of these numbers.\n",
    "# input\n",
    "# 2, 5, 6, 9, 0\n",
    "# a = 9 6 5 2 0\n",
    "# print 96520\n",
    "# print 9+6+5+2+0\n",
    "\n",
    "str_list = \"12 4 3 9 88 72 1 0\"\n",
    "new_list = str_list.split()\n",
    "new_list = list(map(int, new_list))\n",
    "print(new_list)\n",
    "new_list.sort(reverse=True)\n",
    "print(new_list)\n",
    "print(''.join(str(el) for el in new_list))\n",
    "print('+'.join(str(el) for el in new_list))"
   ]
  },
  {
   "cell_type": "code",
   "execution_count": 34,
   "id": "7091c70c",
   "metadata": {},
   "outputs": [
    {
     "name": "stdout",
     "output_type": "stream",
     "text": [
      "Enter your login: login\n",
      "Enter your password: password\n",
      "(0.608294925355889, 0.1835584016724623)\n"
     ]
    }
   ],
   "source": [
    "# Write a program that asks the user for a username and password.\n",
    "# If they are correct, returns two random numbers (access key and id) to the user and saves them. They must be unchanged.\n",
    "# If not correct, replace the value with 0.\n",
    "import random\n",
    "login = 'login'\n",
    "password = 'password'\n",
    "customer_login = input('Enter your login: ')\n",
    "customer_password = input('Enter your password: ')\n",
    "if login == customer_login and customer_password == customer_password:\n",
    "    print((random.random(), random.random()))\n",
    "else:\n",
    "    print((0, 0))"
   ]
  },
  {
   "cell_type": "code",
   "execution_count": 36,
   "id": "0593b557",
   "metadata": {},
   "outputs": [
    {
     "name": "stdout",
     "output_type": "stream",
     "text": [
      "False\n",
      "{'leap': 1, 'recently': 1, 'of': 4, 'to': 1, 'essentially': 1, 'only': 1, 'passages': 1, 'a': 2, 'also': 1, 'printing': 1, 'was': 1, 'an': 1, 'software': 1, 'took': 1, 'Ipsum': 4, 'but': 1, 'it': 1, 'dummy': 2, 'unchanged': 1, 'text': 2, 'ever': 1, 'more': 1, 'release': 1, 'simply': 1, 'containing': 1, 'has': 2, 'specimen': 1, 'with': 2, \"industry's\": 1, 'into': 1, 'sheets': 1, 'desktop': 1, '1500s': 1, 'been': 1, 'Lorem': 4, 'type': 2, 'It': 2, 'versions': 1, 'scrambled': 1, 'typesetting': 2, 'like': 1, 'printer': 1, 'and': 3, 'is': 1, 'five': 1, 'electronic': 1, 'Letraset': 1, 'including': 1, 'standard': 1, 'PageMaker': 1, 'the': 6, 'Aldus': 1, 'in': 1, 'make': 1, 'book': 1, 'when': 1, 'industry': 1, 'centuries': 1, 'survived': 1, 'remaining': 1, 'galley': 1, 'since': 1, '1960s': 1, 'publishing': 1, 'popularised': 1, 'not': 1, 'unknown': 1}\n"
     ]
    }
   ],
   "source": [
    "# Check if there are words in the text that are repeated and count their number.\n",
    "# Use sets (set ()).\n",
    "text = \"\"\"Lorem Ipsum is simply dummy text of the printing and typesetting industry Lorem Ipsum has been the industry's standard dummy text ever since the 1500s when an unknown printer took a galley of type and scrambled it to make a type specimen book It has survived not only five centuries but also the leap into electronic typesetting remaining essentially unchanged It was popularised in the 1960s with the release of Letraset sheets containing Lorem Ipsum passages and more recently with desktop publishing software like Aldus PageMaker including versions of Lorem Ipsum\"\"\"\n",
    "print(len(set(text.split(\" \"))) == len(text.split(\" \")))\n",
    "print({i: text.split(' ').count(i) for i in set(text.split(\" \"))})"
   ]
  },
  {
   "cell_type": "code",
   "execution_count": null,
   "id": "eada4b52",
   "metadata": {},
   "outputs": [],
   "source": [
    "# Create an app that reads the position of a chess piece from the user and reports the color of the square,\n",
    "# where the shape is located. For example, if the user enters as1, the program should report,\n",
    "# that the Square has the color black, if d and 5-the program reports that the Square has the color white.\n",
    "\n",
    "from collections import defaultdict\n",
    "board_len = 8\n",
    "board_symbols = ['a', 'b', 'c', 'd', 'e', 'f', 'g', 'h']\n",
    "board = defaultdict(list)\n",
    "for index, symbol in enumerate(board_symbols):\n",
    "    # if index % 2 == 0:\n",
    "    #     for position in range(board_len):\n",
    "    #         if position % 2 == 0:\n",
    "    #             board[symbol].append('black')\n",
    "    #         else:\n",
    "    #             board[symbol].append('white')\n",
    "    # else:\n",
    "    #     for position in range(board_len):\n",
    "    #         if position % 2 == 0:\n",
    "    #             board[symbol].append('white')\n",
    "    #         else:\n",
    "    #             board[symbol].append('black')\n",
    "    for position in range(board_len):\n",
    "        if position % 2 == 0 and index % 2 == 0:\n",
    "            board[symbol].append('black')\n",
    "        elif position % 2 == 0 and index % 2 != 0:\n",
    "            board[symbol].append('white')\n",
    "        elif position % 2 != 0 and index % 2 == 0:\n",
    "            board[symbol].append('white')\n",
    "        else:\n",
    "            board[symbol].append('black')\n",
    "# print(board)\n",
    "while True:\n",
    "    position = input('Please, enter figure position: ')\n",
    "    if position == 'exit':\n",
    "        break\n",
    "    print(f'The square color is {board[position[0]][int(position[1]) - 1]}')"
   ]
  },
  {
   "cell_type": "code",
   "execution_count": null,
   "id": "7b8d1035",
   "metadata": {},
   "outputs": [],
   "source": [
    "# Реалізуйте шифр Цезаря. Один з перших відомих прикладів шифрування був використаний Юлієм Цезарем.\n",
    "# Цезар надавав письмові вказівки своїм генералам, але він не бажав, зрозуміло, щоб про них знали вороги.\n",
    "# У результаті він створив власне шифрування, що згодом стало відоме як шифр Цезаря.\n",
    "# Ідея цього шифру проста (і, як наслідок, вона не забезпечує серйозного захисту).\n",
    "# Кожна буква в оригінальному повідомленні зміщується на 3 позиції.\n",
    "# В результаті A стає D, B стає E, C стає F, D стає G і т. д.\n",
    "# Останні три букви у алфавіті повертаються до початку: X стає A, Y стає B, а Z стає C.\n",
    "# Нелітерні символи не враховуються шифром. Користувач вводить з клавітури повідомлення та зсув,\n",
    "# а потім програма відображає зашифроване повідомлення. Переконайтеся, що програма шифрує як великі та малі літери.\n",
    "# Програма також повинна підтримувати значення негативних зсувів, щоб її можна було використовувати як\n",
    "# для кодування повідомлень, так і для декодування повідомлень.\n",
    "# У нагоді стануть такі функції: ord() (перетворює символ у номер позиції цього символу у таблиці ASCII )\n",
    "# і chr() (перетворює номер позиції символу у таблиці ASCII у відповідний символ).\n",
    "\n",
    "big_letters = [65, 90]\n",
    "small_letters = [97, 122]\n",
    "word = input('Please, enter your word: ')\n",
    "space = int(input('Enter space number: '))\n",
    "cyphered_word = ''\n",
    "for letter in word:\n",
    "    position = ord(letter)\n",
    "    new_position = position + space\n",
    "    if big_letters[0] <= position <= big_letters[1]:  # position in range(big_letters[0], big_letters[1] + 1)\n",
    "        if new_position > big_letters[1]:\n",
    "            new_position = big_letters[0] + new_position - big_letters[1] - 1\n",
    "        cyphered_word += chr(new_position)\n",
    "    elif small_letters[0] <= position <= small_letters[1]:\n",
    "        if new_position > small_letters[1]:\n",
    "            new_position = small_letters[0] + new_position - small_letters[1] - 1\n",
    "        cyphered_word += chr(new_position)\n",
    "    else:\n",
    "        cyphered_word += letter\n",
    "print(f'Cyphered word: {cyphered_word}')"
   ]
  },
  {
   "cell_type": "code",
   "execution_count": null,
   "id": "999c3ce3",
   "metadata": {},
   "outputs": [],
   "source": []
  },
  {
   "cell_type": "code",
   "execution_count": 41,
   "id": "c069345e",
   "metadata": {},
   "outputs": [
    {
     "name": "stdout",
     "output_type": "stream",
     "text": [
      "Enter a number from 1 to 10 to test your luck: \n",
      "a1\n",
      "Unluck, you didn't guess it! :(. Number: 3\n"
     ]
    }
   ],
   "source": [
    "from random import randint\n",
    "\n",
    "def generation_number():\n",
    "     return randint(1, 10)\n",
    "\n",
    "# The function of entering user response and comparing results\n",
    "def check_answer(result):\n",
    "    input_answer = input()\n",
    "    if input_answer == str(result):\n",
    "        print(\"Luck, you guessed it! :)\")\n",
    "    else:\n",
    "        print(f\"Unluck, you didn't guess it! :(. Number: {result}\")\n",
    "\n",
    "# Three simple mathematical expressions\n",
    "print(f\"Enter a number from 1 to 10 to test your luck: \")\n",
    "result = generation_number()\n",
    "check_answer(result)"
   ]
  },
  {
   "cell_type": "code",
   "execution_count": 1,
   "id": "98eadfd3",
   "metadata": {},
   "outputs": [
    {
     "ename": "IndexError",
     "evalue": "list index out of range",
     "output_type": "error",
     "traceback": [
      "\u001b[0;31m---------------------------------------------------------------------------\u001b[0m",
      "\u001b[0;31mIndexError\u001b[0m                                Traceback (most recent call last)",
      "Cell \u001b[0;32mIn[1], line 8\u001b[0m\n\u001b[1;32m      4\u001b[0m     user_name \u001b[39m=\u001b[39m user_list[\u001b[39m0\u001b[39m]\n\u001b[1;32m      5\u001b[0m     user_age \u001b[39m=\u001b[39m \u001b[39mint\u001b[39m(user_list[\u001b[39m1\u001b[39m])\n\u001b[0;32m----> 8\u001b[0m user_details()\n\u001b[1;32m      9\u001b[0m \u001b[39mprint\u001b[39m(\u001b[39mf\u001b[39m\u001b[39m\"\u001b[39m\u001b[39mHello \u001b[39m\u001b[39m{\u001b[39;00muser_name\u001b[39m}\u001b[39;00m\u001b[39m, on your next birthday you’ll be \u001b[39m\u001b[39m{\u001b[39;00muser_age\u001b[39m \u001b[39m\u001b[39m+\u001b[39m\u001b[39m \u001b[39m\u001b[39m1\u001b[39m\u001b[39m}\u001b[39;00m\u001b[39m years\u001b[39m\u001b[39m\"\u001b[39m)\n",
      "Cell \u001b[0;32mIn[1], line 4\u001b[0m, in \u001b[0;36muser_details\u001b[0;34m()\u001b[0m\n\u001b[1;32m      2\u001b[0m \u001b[39mglobal\u001b[39;00m user_name, user_age\n\u001b[1;32m      3\u001b[0m user_list \u001b[39m=\u001b[39m \u001b[39minput\u001b[39m(\u001b[39m\"\u001b[39m\u001b[39mEnter your name and age separated by a space\u001b[39m\u001b[39m\"\u001b[39m)\u001b[39m.\u001b[39msplit()\n\u001b[0;32m----> 4\u001b[0m user_name \u001b[39m=\u001b[39m user_list[\u001b[39m0\u001b[39;49m]\n\u001b[1;32m      5\u001b[0m user_age \u001b[39m=\u001b[39m \u001b[39mint\u001b[39m(user_list[\u001b[39m1\u001b[39m])\n",
      "\u001b[0;31mIndexError\u001b[0m: list index out of range"
     ]
    }
   ],
   "source": [
    "def user_details():\n",
    "    global user_name, user_age\n",
    "    user_list = input(\"Enter your name and age separated by a space\").split()\n",
    "    user_name = user_list[0]\n",
    "    user_age = int(user_list[1])\n",
    "    \n",
    "\n",
    "user_details()\n",
    "print(f\"Hello {user_name}, on your next birthday you’ll be {user_age + 1} years\")\n"
   ]
  },
  {
   "cell_type": "markdown",
   "id": "befaa075",
   "metadata": {},
   "source": [
    "# "
   ]
  },
  {
   "cell_type": "code",
   "execution_count": null,
   "id": "b06a75eb",
   "metadata": {},
   "outputs": [
    {
     "name": "stdout",
     "output_type": "stream",
     "text": [
      "Enter a word and press Enter:   Hello\n",
      "Hello\n",
      "leoHl\n",
      "eHllo\n",
      "oleHl\n",
      "lHloe\n",
      "Helol\n"
     ]
    }
   ],
   "source": [
    "from random import sample\n",
    "\n",
    "def generate_random_words(arg):\n",
    "    arg_list = list(arg)\n",
    "    print(arg)\n",
    "    for x in range(len(arg_list)):\n",
    "        gen = sample(arg_list, len(arg_list))\n",
    "        print(\"\".join(gen))\n",
    "\n",
    "\n",
    "primary_word = input(\"Enter a word and press Enter:   \")\n",
    "generate_random_words(primary_word)"
   ]
  },
  {
   "cell_type": "code",
   "execution_count": null,
   "id": "1b2d5795",
   "metadata": {},
   "outputs": [
    {
     "name": "stdout",
     "output_type": "stream",
     "text": [
      "Enter your name and age separated by a spaceMax 12\n",
      "Hello Max, on your next birthday you’ll be 13 years\n"
     ]
    }
   ],
   "source": [
    "def user_details():\n",
    "    user_list = input(\"Enter your name and age separated by a space\").split()\n",
    "    return (user_list[0], int(user_list[1]))\n",
    "\n",
    "user_name, user_age = user_details()\n",
    "print(f\"Hello {user_name}, on your next birthday you’ll be {user_age + 1} years\")"
   ]
  },
  {
   "cell_type": "code",
   "execution_count": null,
   "id": "8c55e95c",
   "metadata": {},
   "outputs": [
    {
     "ename": "ValueError",
     "evalue": "invalid literal for int() with base 10: ''",
     "output_type": "error",
     "traceback": [
      "\u001b[0;31m---------------------------------------------------------------------------\u001b[0m",
      "\u001b[0;31mValueError\u001b[0m                                Traceback (most recent call last)",
      "Cell \u001b[0;32mIn[1], line 5\u001b[0m\n\u001b[1;32m      2\u001b[0m     \u001b[39mfor\u001b[39;00m i \u001b[39min\u001b[39;00m \u001b[39mrange\u001b[39m(\u001b[39m1\u001b[39m,\u001b[39m11\u001b[39m):\n\u001b[1;32m      3\u001b[0m         \u001b[39mprint\u001b[39m(\u001b[39mf\u001b[39m\u001b[39m\"\u001b[39m\u001b[39m{\u001b[39;00mi\u001b[39m}\u001b[39;00m\u001b[39m * \u001b[39m\u001b[39m{\u001b[39;00mnumber\u001b[39m}\u001b[39;00m\u001b[39m = \u001b[39m\u001b[39m{\u001b[39;00mi\u001b[39m \u001b[39m\u001b[39m*\u001b[39m\u001b[39m \u001b[39mnumber\u001b[39m}\u001b[39;00m\u001b[39m\"\u001b[39m)\n\u001b[0;32m----> 5\u001b[0m mult(\u001b[39mint\u001b[39;49m(\u001b[39minput\u001b[39;49m(\u001b[39m\"\u001b[39;49m\u001b[39mInput number\u001b[39;49m\u001b[39m\"\u001b[39;49m)))\n",
      "\u001b[0;31mValueError\u001b[0m: invalid literal for int() with base 10: ''"
     ]
    }
   ],
   "source": [
    "def mult(number):\n",
    "    for i in range(1,11):\n",
    "        print(f\"{i} * {number} = {i * number}\")\n",
    "\n",
    "mult(int(input(\"Input number\")))"
   ]
  },
  {
   "cell_type": "code",
   "execution_count": null,
   "id": "c4c8bc23",
   "metadata": {},
   "outputs": [
    {
     "name": "stdout",
     "output_type": "stream",
     "text": [
      "set()\n"
     ]
    }
   ],
   "source": [
    "def clear_list(*args):\n",
    "    return set(args)\n",
    "\n",
    "str_numbers = input(\"Input numbers with spaces\")\n",
    "number_list = str_numbers.split()\n",
    "print(clear_list(*number_list))"
   ]
  },
  {
   "cell_type": "code",
   "execution_count": 9,
   "id": "77c2eeb5",
   "metadata": {},
   "outputs": [
    {
     "name": "stdout",
     "output_type": "stream",
     "text": [
      "[10, 10, 8, 7, 2, 7, 7, 8, 3, 8]\n"
     ]
    },
    {
     "data": {
      "text/plain": [
       "10"
      ]
     },
     "execution_count": 9,
     "metadata": {},
     "output_type": "execute_result"
    }
   ],
   "source": [
    "from random import randint\n",
    "\n",
    "def max_number(arg):\n",
    "    i = 0\n",
    "    new_list = []\n",
    "    max_v = 0\n",
    "    \n",
    "    while i < arg:\n",
    "        new_list.append(randint(1, arg))\n",
    "        i += 1\n",
    "    print(new_list)\n",
    "    return new_list\n",
    "\n",
    "max(max_number(10))\n",
    "\n",
    "\n"
   ]
  },
  {
   "cell_type": "code",
   "execution_count": null,
   "id": "b79684aa",
   "metadata": {},
   "outputs": [
    {
     "name": "stdout",
     "output_type": "stream",
     "text": [
      "[4, 1, 6, 7, 9, 1, 7, 3, 10, 7]\n",
      "[6, 2, 4, 4, 4, 5, 5, 7, 2, 4]\n",
      "List with intersection: [4, 6, 7]\n"
     ]
    }
   ],
   "source": [
    "from random import randint\n",
    "\n",
    "\n",
    "def generate_list(value = 10, length = 10):\n",
    "    i = 0\n",
    "    new_list = []\n",
    "    while i < length:\n",
    "        new_list.append(randint(1, value))\n",
    "        i += 1\n",
    "    print(new_list)\n",
    "    return new_list\n",
    "\n",
    "\n",
    "first_list = set(generate_list(10, 10))\n",
    "second_list = set(generate_list(10, 10))\n",
    "third_list = list(set.intersection(first_list, second_list))\n",
    "print(f\"List with intersection: {third_list}\")"
   ]
  },
  {
   "cell_type": "code",
   "execution_count": null,
   "id": "b43a84d2",
   "metadata": {},
   "outputs": [
    {
     "name": "stdout",
     "output_type": "stream",
     "text": [
      "[1, 2, 3, 4, 5, 6, 7, 8, 9, 10, 11, 12, 13, 14, 15, 16, 17, 18, 19, 20, 21, 22, 23, 24, 25, 26, 27, 28, 29, 30, 31, 32, 33, 34, 35, 36, 37, 38, 39, 40, 41, 42, 43, 44, 45, 46, 47, 48, 49, 50, 51, 52, 53, 54, 55, 56, 57, 58, 59, 60, 61, 62, 63, 64, 65, 66, 67, 68, 69, 70, 71, 72, 73, 74, 75, 76, 77, 78, 79, 80, 81, 82, 83, 84, 85, 86, 87, 88, 89, 90, 91, 92, 93, 94, 95, 96, 97, 98, 99, 100]\n",
      "List that are divisible by 7 but not a multiple of 5: [7, 14, 21, 28, 42, 49, 56, 63, 77, 84, 91, 98]\n"
     ]
    }
   ],
   "source": [
    "def fill_list(arg, val_1 = 7, val_2 = 5):\n",
    "    i = 0\n",
    "    new_list = []  \n",
    "    calc_list = []\n",
    "    while i < arg:\n",
    "        new_list.append(i+1)\n",
    "       \n",
    "        if (new_list[i] % val_1) == 0 and (new_list[i] % val_2) != 0:\n",
    "            calc_list.append(new_list[i])\n",
    "\n",
    "        i += 1\n",
    "    return new_list, calc_list\n",
    "\n",
    "integer_list, result = fill_list(100, 7, 5)\n",
    "print(integer_list)\n",
    "print(f\"List that are divisible by 7 but not a multiple of 5: {result}\")\n"
   ]
  },
  {
   "cell_type": "code",
   "execution_count": null,
   "id": "b4f21508",
   "metadata": {},
   "outputs": [
    {
     "data": {
      "text/plain": [
       "['/Users/macos',\n",
       " '/Users/macos/anaconda3/lib/python310.zip',\n",
       " '/Users/macos/anaconda3/lib/python3.10',\n",
       " '/Users/macos/anaconda3/lib/python3.10/lib-dynload',\n",
       " '',\n",
       " '/Users/macos/anaconda3/lib/python3.10/site-packages',\n",
       " '/Users/macos/anaconda3/lib/python3.10/site-packages/PyQt5_sip-12.11.0-py3.10-macosx-10.9-x86_64.egg',\n",
       " '/Users/macos/anaconda3/lib/python3.10/site-packages/aeosa',\n",
       " '/Users/macos/anaconda3/lib/python3.10/site-packages/mpmath-1.2.1-py3.10.egg',\n",
       " '/Users/macos/anaconda3/lib/python3.10/site-packages/pycurl-7.45.1-py3.10-macosx-10.9-x86_64.egg']"
      ]
     },
     "execution_count": 3,
     "metadata": {},
     "output_type": "execute_result"
    }
   ],
   "source": []
  },
  {
   "cell_type": "code",
   "execution_count": null,
   "id": "790a2a88",
   "metadata": {},
   "outputs": [
    {
     "ename": "SyntaxError",
     "evalue": "invalid syntax (1531999167.py, line 1)",
     "output_type": "error",
     "traceback": [
      "\u001b[0;36m  Cell \u001b[0;32mIn[35], line 1\u001b[0;36m\u001b[0m\n\u001b[0;31m    [(x, y) for x in range(1, 11) for y in y = x * x]\u001b[0m\n\u001b[0m                                             ^\u001b[0m\n\u001b[0;31mSyntaxError\u001b[0m\u001b[0;31m:\u001b[0m invalid syntax\n"
     ]
    }
   ],
   "source": [
    "[(x, y) for x in range(1, 11) for y in [3,1,4] if x != y]"
   ]
  },
  {
   "cell_type": "code",
   "execution_count": null,
   "id": "94f4fef2",
   "metadata": {},
   "outputs": [
    {
     "name": "stdout",
     "output_type": "stream",
     "text": [
      "It is a long established fact that a reader will be distracted by the readable content of a page when looking at its layout. The point of using Lorem Ipsum is that it has a more-or-less normal distribution of letters, as opposed to using 'Content here, content here', making it look like readable English. Many desktop publishing packages and web page editors now use Lorem Ipsum as their default model text, and a search for 'lorem ipsum' will uncover many web sites still in their infancy. Various versions have evolved over the years, sometimes by accident, sometimes on purpose.\n",
      "-------------------------------------\n",
      "['it', 'is', 'a', 'long', 'established', 'fact', 'that', 'a', 'reader', 'will', 'be', 'distracted', 'by', 'the', 'readable', 'content', 'of', 'a', 'page', 'when', 'looking', 'at', 'its', 'layout', 'the', 'point', 'of', 'using', 'lorem', 'ipsum', 'is', 'that', 'it', 'has', 'a', 'more-or-less', 'normal', 'distribution', 'of', 'letters', 'as', 'opposed', 'to', 'using', \"'content\", 'here', 'content', \"here'\", 'making', 'it', 'look', 'like', 'readable', 'english', 'many', 'desktop', 'publishing', 'packages', 'and', 'web', 'page', 'editors', 'now', 'use', 'lorem', 'ipsum', 'as', 'their', 'default', 'model', 'text', 'and', 'a', 'search', 'for', \"'lorem\", \"ipsum'\", 'will', 'uncover', 'many', 'web', 'sites', 'still', 'in', 'their', 'infancy', 'various', 'versions', 'have', 'evolved', 'over', 'the', 'years', 'sometimes', 'by', 'accident', 'sometimes', 'on', 'purpose']\n",
      "-------------------------------------\n",
      "{'distracted', \"'content\", 'publishing', 'now', 'infancy', 'be', 'versions', 'readable', 'of', 'over', 'by', 'accident', 'its', 'packages', 'here', 'when', \"ipsum'\", 'fact', 'long', \"'lorem\", 'model', 'default', 'in', 'the', 'to', 'will', 'layout', 'that', 'opposed', \"here'\", 'is', 'ipsum', 'distribution', 'desktop', 'editors', 'their', 'at', 'normal', 'search', 'on', 'still', 'text', 'uncover', 'have', 'making', 'and', 'like', 'years', 'sometimes', 'page', 'it', 'various', 'as', 'has', 'many', 'for', 'evolved', 'purpose', 'look', 'point', 'web', 'sites', 'established', 'reader', 'english', 'letters', 'using', 'lorem', 'a', 'looking', 'more-or-less', 'content', 'use'}\n",
      "-------------------------------------\n",
      "{'distracted': 1, \"'content\": 1, 'publishing': 1, 'now': 1, 'infancy': 1, 'be': 1, 'versions': 1, 'readable': 2, 'of': 3, 'over': 1, 'by': 2, 'accident': 1, 'its': 1, 'packages': 1, 'here': 1, 'when': 1, \"ipsum'\": 1, 'fact': 1, 'long': 1, \"'lorem\": 1, 'model': 1, 'default': 1, 'in': 1, 'the': 3, 'to': 1, 'will': 2, 'layout': 1, 'that': 2, 'opposed': 1, \"here'\": 1, 'is': 2, 'ipsum': 2, 'distribution': 1, 'desktop': 1, 'editors': 1, 'their': 2, 'at': 1, 'normal': 1, 'search': 1, 'on': 1, 'still': 1, 'text': 1, 'uncover': 1, 'have': 1, 'making': 1, 'and': 2, 'like': 1, 'years': 1, 'sometimes': 2, 'page': 2, 'it': 3, 'various': 1, 'as': 2, 'has': 1, 'many': 2, 'for': 1, 'evolved': 1, 'purpose': 1, 'look': 1, 'point': 1, 'web': 2, 'sites': 1, 'established': 1, 'reader': 1, 'english': 1, 'letters': 1, 'using': 2, 'lorem': 2, 'a': 5, 'looking': 1, 'more-or-less': 1, 'content': 2, 'use': 1}\n"
     ]
    }
   ],
   "source": [
    "# перебрати кортеж, на ітерації узяти елемент з кортежу, перевірити його входження у список і додати до словника\n",
    "\n",
    "def build_tulip(arg):\n",
    "    for x in arg:\n",
    "        item_dict.update({x: item_list.count(x)})\n",
    "\n",
    "item_str = \"It is a long established fact that a reader will be distracted by the readable content of a page when looking at its layout. The point of using Lorem Ipsum is that it has a more-or-less normal distribution of letters, as opposed to using 'Content here, content here', making it look like readable English. Many desktop publishing packages and web page editors now use Lorem Ipsum as their default model text, and a search for 'lorem ipsum' will uncover many web sites still in their infancy. Various versions have evolved over the years, sometimes by accident, sometimes on purpose.\"\n",
    "\n",
    "# видаляємо коми і крапки та приводимо слова до єдиного реєстру\n",
    "item_list = item_str.replace(\",\", \"\").replace(\".\", \"\").lower().split()\n",
    "item_tuple = set(item_list)\n",
    "item_dict = {}\n",
    "\n",
    "build_tulip(item_tuple)\n",
    "\n",
    "print(item_str)\n",
    "print(\"-------------------------------------\")\n",
    "print(item_list)\n",
    "print(\"-------------------------------------\")\n",
    "print(item_tuple)\n",
    "print(\"-------------------------------------\")\n",
    "print(item_dict)\n"
   ]
  },
  {
   "cell_type": "code",
   "execution_count": null,
   "id": "e4452256",
   "metadata": {},
   "outputs": [
    {
     "name": "stdout",
     "output_type": "stream",
     "text": [
      "\n",
      "Key: banana\n",
      "Value: 6\n",
      "Price: 4\n",
      "Total: 24\n",
      "\n",
      "Key: apple\n",
      "Value: 0\n",
      "Price: 2\n",
      "Total: 0\n",
      "\n",
      "Key: orange\n",
      "Value: 32\n",
      "Price: 1.5\n",
      "Total: 48.0\n",
      "\n",
      "Key: pear\n",
      "Value: 15\n",
      "Price: 3\n",
      "Total: 45\n"
     ]
    }
   ],
   "source": [
    "stock = {\n",
    "    \"banana\": 6,\n",
    "    \"apple\": 0,\n",
    "    \"orange\": 32,\n",
    "    \"pear\": 15\n",
    "}\n",
    "prices = {\n",
    "    \"banana\": 4,\n",
    "    \"apple\": 2,\n",
    "    \"orange\": 1.5,\n",
    "    \"pear\": 3\n",
    "}\n",
    "\n",
    "for key, value in stock.items():\n",
    "    print(\"\\nKey: \" + key)\n",
    "    print(\"Value: \" + str(value))\n",
    "    print(\"Price: \" + str(prices[key]))\n",
    "    print(\"Total: {}\".format(value * prices[key]))\n"
   ]
  },
  {
   "cell_type": "code",
   "execution_count": null,
   "id": "e612f318",
   "metadata": {},
   "outputs": [
    {
     "name": "stdout",
     "output_type": "stream",
     "text": [
      "[(1, 1), (2, 4), (3, 9), (4, 16), (5, 25), (6, 36), (7, 49), (8, 64), (9, 81), (10, 100)]\n"
     ]
    }
   ],
   "source": [
    "print([(x, x*x) for x in range(1, 11)])\n",
    "# print(result)"
   ]
  },
  {
   "cell_type": "code",
   "execution_count": null,
   "id": "1c1124f6",
   "metadata": {},
   "outputs": [
    {
     "name": "stdout",
     "output_type": "stream",
     "text": [
      "{'Monday': 1, 'Tuesday': 2, 'Wednesday': 3, 'Thursday': 4, 'Friday': 5, 'Saturday': 6, 'Sunday': 7}\n",
      "{1: 'Monday', 2: 'Tuesday', 3: 'Wednesday', 4: 'Thursday', 5: 'Friday', 6: 'Saturday', 7: 'Sunday'}\n"
     ]
    }
   ],
   "source": [
    "list_week = [\"Monday\", \"Tuesday\", \"Wednesday\", \"Thursday\", \"Friday\", \"Saturday\", \"Sunday\"]\n",
    "\n",
    "res = []\n",
    "for index, elem in enumerate(list_week):\n",
    "    res.append((elem, index+1))\n",
    "print(dict(res))\n",
    "\n",
    "res = []\n",
    "for index, elem in enumerate(list_week):\n",
    "    res.append((index+1, elem))\n",
    "print(dict(res))\n"
   ]
  },
  {
   "cell_type": "code",
   "execution_count": null,
   "id": "9546f3a9",
   "metadata": {},
   "outputs": [
    {
     "name": "stdout",
     "output_type": "stream",
     "text": [
      "My favorite movie is named Mad Max\n"
     ]
    }
   ],
   "source": [
    "def favorite_movie(name):\n",
    "    print(f\"My favorite movie is named {name}\")\n",
    "\n",
    "favorite_movie(\"Mad Max\")\n"
   ]
  },
  {
   "cell_type": "code",
   "execution_count": null,
   "id": "e063525c",
   "metadata": {},
   "outputs": [
    {
     "name": "stdout",
     "output_type": "stream",
     "text": [
      "{'Afghanistan': 'Kabul'}\n",
      "{'Australia': 'Canberra'}\n",
      "{'Belgium': 'Brussels'}\n",
      "{'Estonia': 'Tallinn'}\n"
     ]
    }
   ],
   "source": [
    "def make_country(country, capital):\n",
    "    print(dict([(country, capital)]))\n",
    "\n",
    "make_country(\"Afghanistan\", \"Kabul\")\n",
    "make_country(\"Australia\", \"Canberra\")\n",
    "make_country(\"Belgium\", \"Brussels\")\n",
    "make_country(\"Estonia\", \"Tallinn\")\n",
    "    \n",
    "    "
   ]
  },
  {
   "cell_type": "code",
   "execution_count": null,
   "id": "44be486f",
   "metadata": {},
   "outputs": [
    {
     "name": "stdout",
     "output_type": "stream",
     "text": [
      "16\n",
      "30\n",
      "42\n"
     ]
    }
   ],
   "source": [
    "def make_operation(operator, *args):\n",
    "    if operator == \"+\":\n",
    "        return sum(list(args))\n",
    "    elif operator == \"-\":\n",
    "        result = args[0]\n",
    "        for x in args[1:]:\n",
    "            result += -(x)\n",
    "        return result\n",
    "    elif operator == \"*\":\n",
    "        result = 1\n",
    "        for x in args:\n",
    "            result *= x\n",
    "        return result\n",
    "\n",
    "print(make_operation('+', 7, 7, 2))        # should return 16\n",
    "print(make_operation('-', 5, 5, -10, -20)) # should return 30\n",
    "print(make_operation('*', 7, 6))           # should return 42  \n",
    "    "
   ]
  },
  {
   "cell_type": "code",
   "execution_count": 13,
   "id": "92288072",
   "metadata": {},
   "outputs": [
    {
     "name": "stdout",
     "output_type": "stream",
     "text": [
      "Summ 26\n"
     ]
    }
   ],
   "source": [
    "def sum_num(a, b):\n",
    "    try:\n",
    "        sum_result = int(a) + int(b)\n",
    "        print(\"Summ\", sum_result)\n",
    "    except ValueError:\n",
    "        print(\"Error\")\n",
    "\n",
    "\n",
    "num1 = input(\"First number\")\n",
    "num2 = input(\"second number\")\n",
    "sum_num(num1, num2)"
   ]
  },
  {
   "cell_type": "code",
   "execution_count": null,
   "id": "86a1631a",
   "metadata": {},
   "outputs": [
    {
     "name": "stdout",
     "output_type": "stream",
     "text": [
      "wrong number\n",
      "3.3333333333333335\n",
      "14\n"
     ]
    }
   ],
   "source": [
    "# ZeroDivisionError\n",
    "# ValueError\n",
    "# IndexError\n",
    "\n",
    "# Розширити написаний калькулятор добавивши до нього обробники помилок.\n",
    "\n",
    "def make_operation(operator, *args):  # серед аргументів можуть бути символи\n",
    "    # мінімальна к-сть аргумертів - 2 (вирішувати помилку IndexError) - створити власну помилку та обробити її\n",
    "    if len(args) < 2:\n",
    "        raise IndexError(\"мінімальна к-сть аргумертів - 2\")\n",
    "    \n",
    "    for x in args:\n",
    "        try:\n",
    "            if not isinstance(x, (int, float)):\n",
    "                pass\n",
    "        except ValueError:\n",
    "            break\n",
    "    \n",
    "    if operator == '+':\n",
    "        return sum(args)\n",
    "\n",
    "    elif operator == '-':\n",
    "        result = args[0]\n",
    "        for i in range(len(args) - 1):\n",
    "            result -= args[i + 1]\n",
    "        return result\n",
    "\n",
    "    elif operator == '*':\n",
    "        result = 1\n",
    "        for arg in args:\n",
    "            result *= arg\n",
    "        return result\n",
    "\n",
    "    elif operator == '/':  # ділення на нуль\n",
    "        result = args[0]\n",
    "        for i in range(len(args) - 1):\n",
    "            try:\n",
    "                result /= args[i + 1]\n",
    "            except ZeroDivisionError:\n",
    "                print('wrong number')\n",
    "        return result\n",
    "\n",
    "    else:\n",
    "        print('Wrong operator, just + or - or * or /')\n",
    "\n",
    "\n",
    "print(make_operation('/', 20, 2, 3, 0))\n",
    "print(make_operation('+', 10, 2, 2)) "
   ]
  },
  {
   "cell_type": "code",
   "execution_count": 12,
   "id": "1f6e8236",
   "metadata": {},
   "outputs": [
    {
     "name": "stdout",
     "output_type": "stream",
     "text": [
      "45\n"
     ]
    }
   ],
   "source": [
    "text_file = open(\"numbers.txt\", \"w\")\n",
    "for index in range(10):\n",
    "    text_file.write(str(index) + '\\n')\n",
    "text_file.close()\n",
    "\n",
    "text_file = open('numbers.txt', 'r')\n",
    "l = [int(line.strip()) for line in text_file]\n",
    "text_file.close()\n",
    "\n",
    "text_file = open(\"sum_numbers.txt\", \"w\")\n",
    "text_file.write(str(sum(l)))\n",
    "text_file.close()\n",
    "\n",
    "print(sum(l))\n"
   ]
  },
  {
   "cell_type": "code",
   "execution_count": 11,
   "id": "a4d06c16",
   "metadata": {},
   "outputs": [],
   "source": [
    "# file = open(\"test.txt\", \"w\")\n",
    "# if input(\"Input number\") % 2 == 0:\n",
    "#     file.write(\"True\")\n",
    "# else: file.write(\"False\")\n",
    "# file.close()\n",
    "\n",
    "number = int(input(\"Input number: \"))\n",
    "\n",
    "with open(\"test.txt\", \"w\") as file:\n",
    "    if number % 2 == 0:\n",
    "        print(\"True\", file=file)\n",
    "    else:\n",
    "        print(\"False\", file=file)\n",
    "\n",
    "file.close()"
   ]
  },
  {
   "cell_type": "code",
   "execution_count": null,
   "id": "7b77f1ab",
   "metadata": {},
   "outputs": [],
   "source": []
  }
 ],
 "metadata": {
  "kernelspec": {
   "display_name": "Python 3 (ipykernel)",
   "language": "python",
   "name": "python3"
  },
  "language_info": {
   "codemirror_mode": {
    "name": "ipython",
    "version": 3
   },
   "file_extension": ".py",
   "mimetype": "text/x-python",
   "name": "python",
   "nbconvert_exporter": "python",
   "pygments_lexer": "ipython3",
   "version": "3.11.4"
  }
 },
 "nbformat": 4,
 "nbformat_minor": 5
}
