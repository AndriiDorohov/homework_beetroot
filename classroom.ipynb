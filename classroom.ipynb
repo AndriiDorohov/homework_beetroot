{
 "cells": [
  {
   "cell_type": "code",
   "execution_count": 1,
   "id": "ca74ca03",
   "metadata": {},
   "outputs": [
    {
     "name": "stdout",
     "output_type": "stream",
     "text": [
      "Exit program\n"
     ]
    }
   ],
   "source": [
    "# Write a program to display the names of countries in capital letters\n",
    "# which also includes checking the end of the work on the keyword\n",
    "# and skip the output if equal to another keyword\n",
    "\n",
    "while True:\n",
    "    country = input('Enter country name: ')\n",
    "    if country == 'exit':\n",
    "        print('Exit program')\n",
    "        break\n",
    "    elif country == '':\n",
    "        continue\n",
    "    else:\n",
    "        if country.isalpha():\n",
    "            print(country.capitalize())\n",
    "        else:\n",
    "            print('Country name is wrong')"
   ]
  },
  {
   "cell_type": "code",
   "execution_count": 2,
   "id": "4a0b8dc0",
   "metadata": {},
   "outputs": [
    {
     "name": "stdout",
     "output_type": "stream",
     "text": [
      "19\n"
     ]
    }
   ],
   "source": [
    "# Write a python program, which sums all digits in a python string.\n",
    "# Examples, input - ‘1234’, output - 10\n",
    "# Передбачити перевірку наявності символів в рядку (якщо є то символ пропускається)\n",
    "\n",
    "num_list = \"12df4sdsd34r5\"\n",
    "total_sum = 0\n",
    "for x in range(0, len(num_list)):\n",
    "    if num_list[x].isdigit():\n",
    "      total_sum += int(num_list[x])\n",
    "    else:\n",
    "      continue\n",
    "    \n",
    "print(total_sum)"
   ]
  },
  {
   "cell_type": "code",
   "execution_count": 3,
   "id": "8b3ec9f4",
   "metadata": {},
   "outputs": [
    {
     "ename": "ValueError",
     "evalue": "invalid literal for int() with base 10: ''",
     "output_type": "error",
     "traceback": [
      "\u001b[0;31m---------------------------------------------------------------------------\u001b[0m",
      "\u001b[0;31mValueError\u001b[0m                                Traceback (most recent call last)",
      "Cell \u001b[0;32mIn[3], line 17\u001b[0m\n\u001b[1;32m     14\u001b[0m j \u001b[39m=\u001b[39m \u001b[39m\"\u001b[39m\u001b[39m*\u001b[39m\u001b[39m\"\u001b[39m\n\u001b[1;32m     16\u001b[0m \u001b[39mwhile\u001b[39;00m \u001b[39mTrue\u001b[39;00m:\n\u001b[0;32m---> 17\u001b[0m     item_length \u001b[39m=\u001b[39m \u001b[39mint\u001b[39;49m(\u001b[39minput\u001b[39;49m(\u001b[39m\"\u001b[39;49m\u001b[39mEnter an odd number: \u001b[39;49m\u001b[39m\"\u001b[39;49m))\n\u001b[1;32m     18\u001b[0m     \u001b[39mif\u001b[39;00m item_length \u001b[39m%\u001b[39m \u001b[39m2\u001b[39m \u001b[39m==\u001b[39m \u001b[39m1\u001b[39m:\n\u001b[1;32m     19\u001b[0m         \u001b[39mbreak\u001b[39;00m\n",
      "\u001b[0;31mValueError\u001b[0m: invalid literal for int() with base 10: ''"
     ]
    }
   ],
   "source": [
    "# Write a Python program to construct the following pattern, using a while loop\n",
    "# *\n",
    "# * *\n",
    "# * * *\n",
    "# * * * *\n",
    "# * * * * *\n",
    "# * * * *\n",
    "# * * *\n",
    "# * *\n",
    "# *\n",
    "# Передбачити задання довжини вершини\n",
    "\n",
    "i = 1\n",
    "j = \"*\"\n",
    "\n",
    "while True:\n",
    "    item_length = int(input(\"Enter an odd number: \"))\n",
    "    if item_length % 2 == 1:\n",
    "        break\n",
    "\n",
    "while i <= item_length:\n",
    "  print(j)\n",
    "  if i < item_length / 2:\n",
    "    j = j + \" *\"\n",
    "  else:\n",
    "    j = j[:-2]\n",
    "  i += 1"
   ]
  },
  {
   "cell_type": "code",
   "execution_count": null,
   "id": "65d1c10b",
   "metadata": {},
   "outputs": [],
   "source": [
    "# Create a module for working with different types of data entered from the keyboard\n",
    "# 1. regular reading\n",
    "# 2. Reading integers\n",
    "# 3. reading decimal numbers\n",
    "# 4. read the text and divide it into words (by punctuation marks.\"\", \",\", \"-\")\n",
    "# 5. reading a list of Comma-separated numbers (combine integer and decimal conversions)\n",
    "def str_input():\n",
    "    return input('Enter sentence: ')\n",
    "\n",
    "def int_input(number):\n",
    "    if number.isnumeric():\n",
    "        return int(number)\n",
    "    else:\n",
    "        print('Error')\n",
    "        return None\n",
    "\n",
    "def float_input(number):\n",
    "    number_without_point = number.replace('.', '')\n",
    "    if number_without_point.isnumeric() and '.' in number:\n",
    "        return float(number)\n",
    "    else:\n",
    "        print('Error')\n",
    "        return None\n",
    "\n",
    "def text_input(text):\n",
    "    text = text.replace('.', ' ').replace(',', ' ').replace('-', ' ').replace('  ', ' ')\n",
    "    return text.split(' ')\n",
    "\n",
    "def numbers_input(numbers):\n",
    "    numbers = numbers.split(',')\n",
    "    for position in range(len(numbers)):\n",
    "        if '.' in numbers[position]:\n",
    "            numbers[position] = float_input(numbers[position])\n",
    "        else:\n",
    "            numbers[position] = int_input(numbers[position])\n",
    "    return numbers\n",
    "\n",
    "def numbers_list_input(numbers):\n",
    "    numbers = numbers.split(',')\n",
    "    count = 0\n",
    "    while count < len(numbers):\n",
    "        if '.' in numbers[count]:\n",
    "            print(float_input(numbers[count]))\n",
    "        else:\n",
    "            print(int_input(numbers[count]))\n",
    "        count += 1\n",
    "        \n",
    "if __name__ == '__main__':\n",
    "    numbers = input('Enter numbers: ')\n",
    "    numbers_list_input(numbers)"
   ]
  },
  {
   "cell_type": "code",
   "execution_count": null,
   "id": "da936596",
   "metadata": {},
   "outputs": [],
   "source": [
    "# You must read a string of 5 digits separated by spaces and save each digit to the list.\n",
    "# Create a copy of the list with the items ordered in reverse order.\n",
    "# Print the number that is formed by combining the elements of the new list, as well as the sum of these numbers.\n",
    "# input\n",
    "# 2, 5, 6, 9, 0\n",
    "# a = 9 6 5 2 0\n",
    "# print 96520\n",
    "# print 9+6+5+2+0\n",
    "\n",
    "str_list = \"12 4 3 9 88 72 1 0\"\n",
    "new_list = str_list.split()\n",
    "new_list = list(map(int, new_list))\n",
    "print(new_list)\n",
    "new_list.sort(reverse=True)\n",
    "print(new_list)\n",
    "print(''.join(str(el) for el in new_list))\n",
    "print('+'.join(str(el) for el in new_list))"
   ]
  },
  {
   "cell_type": "code",
   "execution_count": null,
   "id": "7091c70c",
   "metadata": {},
   "outputs": [],
   "source": [
    "# Write a program that asks the user for a username and password.\n",
    "# If they are correct, returns two random numbers (access key and id) to the user and saves them. They must be unchanged.\n",
    "# If not correct, replace the value with 0.\n",
    "import random\n",
    "login = 'login'\n",
    "password = 'password'\n",
    "customer_login = input('Enter your login: ')\n",
    "customer_password = input('Enter your password: ')\n",
    "if login == customer_login and customer_password == customer_password:\n",
    "    print((random.random(), random.random()))\n",
    "else:\n",
    "    print((0, 0))"
   ]
  },
  {
   "cell_type": "code",
   "execution_count": null,
   "id": "0593b557",
   "metadata": {},
   "outputs": [],
   "source": [
    "# Check if there are words in the text that are repeated and count their number.\n",
    "# Use sets (set ()).\n",
    "text = \"\"\"Lorem Ipsum is simply dummy text of the printing and typesetting industry Lorem Ipsum has been the industry's standard dummy text ever since the 1500s when an unknown printer took a galley of type and scrambled it to make a type specimen book It has survived not only five centuries but also the leap into electronic typesetting remaining essentially unchanged It was popularised in the 1960s with the release of Letraset sheets containing Lorem Ipsum passages and more recently with desktop publishing software like Aldus PageMaker including versions of Lorem Ipsum\"\"\"\n",
    "print(len(set(text.split(\" \"))) == len(text.split(\" \")))\n",
    "print({i: text.split(' ').count(i) for i in set(text.split(\" \"))})"
   ]
  },
  {
   "cell_type": "code",
   "execution_count": null,
   "id": "eada4b52",
   "metadata": {},
   "outputs": [],
   "source": [
    "# Create an app that reads the position of a chess piece from the user and reports the color of the square,\n",
    "# where the shape is located. For example, if the user enters as1, the program should report,\n",
    "# that the Square has the color black, if d and 5-the program reports that the Square has the color white.\n",
    "\n",
    "from collections import defaultdict\n",
    "board_len = 8\n",
    "board_symbols = ['a', 'b', 'c', 'd', 'e', 'f', 'g', 'h']\n",
    "board = defaultdict(list)\n",
    "for index, symbol in enumerate(board_symbols):\n",
    "    # if index % 2 == 0:\n",
    "    #     for position in range(board_len):\n",
    "    #         if position % 2 == 0:\n",
    "    #             board[symbol].append('black')\n",
    "    #         else:\n",
    "    #             board[symbol].append('white')\n",
    "    # else:\n",
    "    #     for position in range(board_len):\n",
    "    #         if position % 2 == 0:\n",
    "    #             board[symbol].append('white')\n",
    "    #         else:\n",
    "    #             board[symbol].append('black')\n",
    "    for position in range(board_len):\n",
    "        if position % 2 == 0 and index % 2 == 0:\n",
    "            board[symbol].append('black')\n",
    "        elif position % 2 == 0 and index % 2 != 0:\n",
    "            board[symbol].append('white')\n",
    "        elif position % 2 != 0 and index % 2 == 0:\n",
    "            board[symbol].append('white')\n",
    "        else:\n",
    "            board[symbol].append('black')\n",
    "# print(board)\n",
    "while True:\n",
    "    position = input('Please, enter figure position: ')\n",
    "    if position == 'exit':\n",
    "        break\n",
    "    print(f'The square color is {board[position[0]][int(position[1]) - 1]}')"
   ]
  },
  {
   "cell_type": "code",
   "execution_count": null,
   "id": "7b8d1035",
   "metadata": {},
   "outputs": [],
   "source": [
    "# Реалізуйте шифр Цезаря. Один з перших відомих прикладів шифрування був використаний Юлієм Цезарем.\n",
    "# Цезар надавав письмові вказівки своїм генералам, але він не бажав, зрозуміло, щоб про них знали вороги.\n",
    "# У результаті він створив власне шифрування, що згодом стало відоме як шифр Цезаря.\n",
    "# Ідея цього шифру проста (і, як наслідок, вона не забезпечує серйозного захисту).\n",
    "# Кожна буква в оригінальному повідомленні зміщується на 3 позиції.\n",
    "# В результаті A стає D, B стає E, C стає F, D стає G і т. д.\n",
    "# Останні три букви у алфавіті повертаються до початку: X стає A, Y стає B, а Z стає C.\n",
    "# Нелітерні символи не враховуються шифром. Користувач вводить з клавітури повідомлення та зсув,\n",
    "# а потім програма відображає зашифроване повідомлення. Переконайтеся, що програма шифрує як великі та малі літери.\n",
    "# Програма також повинна підтримувати значення негативних зсувів, щоб її можна було використовувати як\n",
    "# для кодування повідомлень, так і для декодування повідомлень.\n",
    "# У нагоді стануть такі функції: ord() (перетворює символ у номер позиції цього символу у таблиці ASCII )\n",
    "# і chr() (перетворює номер позиції символу у таблиці ASCII у відповідний символ).\n",
    "\n",
    "big_letters = [65, 90]\n",
    "small_letters = [97, 122]\n",
    "word = input('Please, enter your word: ')\n",
    "space = int(input('Enter space number: '))\n",
    "cyphered_word = ''\n",
    "for letter in word:\n",
    "    position = ord(letter)\n",
    "    new_position = position + space\n",
    "    if big_letters[0] <= position <= big_letters[1]:  # position in range(big_letters[0], big_letters[1] + 1)\n",
    "        if new_position > big_letters[1]:\n",
    "            new_position = big_letters[0] + new_position - big_letters[1] - 1\n",
    "        cyphered_word += chr(new_position)\n",
    "    elif small_letters[0] <= position <= small_letters[1]:\n",
    "        if new_position > small_letters[1]:\n",
    "            new_position = small_letters[0] + new_position - small_letters[1] - 1\n",
    "        cyphered_word += chr(new_position)\n",
    "    else:\n",
    "        cyphered_word += letter\n",
    "print(f'Cyphered word: {cyphered_word}')"
   ]
  },
  {
   "cell_type": "code",
   "execution_count": null,
   "id": "999c3ce3",
   "metadata": {},
   "outputs": [],
   "source": []
  },
  {
   "cell_type": "code",
   "execution_count": null,
   "id": "c069345e",
   "metadata": {},
   "outputs": [],
   "source": [
    "from random import randint\n",
    "\n",
    "def generation_number():\n",
    "     return randint(1, 10)\n",
    "\n",
    "# The function of entering user response and comparing results\n",
    "def check_answer(result):\n",
    "    input_answer = input()\n",
    "    if input_answer == str(result):\n",
    "        print(\"Luck, you guessed it! :)\")\n",
    "    else:\n",
    "        print(f\"Unluck, you didn't guess it! :(. Number: {result}\")\n",
    "\n",
    "# Three simple mathematical expressions\n",
    "print(f\"Enter a number from 1 to 10 to test your luck: \")\n",
    "result = generation_number()\n",
    "check_answer(result)"
   ]
  },
  {
   "cell_type": "code",
   "execution_count": null,
   "id": "98eadfd3",
   "metadata": {},
   "outputs": [],
   "source": [
    "def user_details():\n",
    "    global user_name, user_age\n",
    "    user_list = input(\"Enter your name and age separated by a space\").split()\n",
    "    user_name = user_list[0]\n",
    "    user_age = int(user_list[1])\n",
    "    \n",
    "\n",
    "user_details()\n",
    "print(f\"Hello {user_name}, on your next birthday you’ll be {user_age + 1} years\")\n"
   ]
  },
  {
   "cell_type": "markdown",
   "id": "befaa075",
   "metadata": {},
   "source": [
    "# "
   ]
  },
  {
   "cell_type": "code",
   "execution_count": null,
   "id": "b06a75eb",
   "metadata": {},
   "outputs": [],
   "source": [
    "from random import sample\n",
    "\n",
    "def generate_random_words(arg):\n",
    "    arg_list = list(arg)\n",
    "    print(arg)\n",
    "    for x in range(len(arg_list)):\n",
    "        gen = sample(arg_list, len(arg_list))\n",
    "        print(\"\".join(gen))\n",
    "\n",
    "\n",
    "primary_word = input(\"Enter a word and press Enter:   \")\n",
    "generate_random_words(primary_word)"
   ]
  },
  {
   "cell_type": "code",
   "execution_count": null,
   "id": "1b2d5795",
   "metadata": {},
   "outputs": [],
   "source": [
    "def user_details():\n",
    "    user_list = input(\"Enter your name and age separated by a space\").split()\n",
    "    return (user_list[0], int(user_list[1]))\n",
    "\n",
    "user_name, user_age = user_details()\n",
    "print(f\"Hello {user_name}, on your next birthday you’ll be {user_age + 1} years\")"
   ]
  },
  {
   "cell_type": "code",
   "execution_count": null,
   "id": "8c55e95c",
   "metadata": {},
   "outputs": [],
   "source": [
    "def mult(number):\n",
    "    for i in range(1,11):\n",
    "        print(f\"{i} * {number} = {i * number}\")\n",
    "\n",
    "mult(int(input(\"Input number\")))"
   ]
  },
  {
   "cell_type": "code",
   "execution_count": null,
   "id": "c4c8bc23",
   "metadata": {},
   "outputs": [],
   "source": [
    "def clear_list(*args):\n",
    "    return set(args)\n",
    "\n",
    "str_numbers = input(\"Input numbers with spaces\")\n",
    "number_list = str_numbers.split()\n",
    "print(clear_list(*number_list))"
   ]
  },
  {
   "cell_type": "code",
   "execution_count": null,
   "id": "77c2eeb5",
   "metadata": {},
   "outputs": [],
   "source": [
    "from random import randint\n",
    "\n",
    "def max_number(arg):\n",
    "    i = 0\n",
    "    new_list = []\n",
    "    max_v = 0\n",
    "    \n",
    "    while i < arg:\n",
    "        new_list.append(randint(1, arg))\n",
    "        i += 1\n",
    "    print(new_list)\n",
    "    return new_list\n",
    "\n",
    "max(max_number(10))\n",
    "\n",
    "\n"
   ]
  },
  {
   "cell_type": "code",
   "execution_count": null,
   "id": "b79684aa",
   "metadata": {},
   "outputs": [],
   "source": [
    "from random import randint\n",
    "\n",
    "\n",
    "def generate_list(value = 10, length = 10):\n",
    "    i = 0\n",
    "    new_list = []\n",
    "    while i < length:\n",
    "        new_list.append(randint(1, value))\n",
    "        i += 1\n",
    "    print(new_list)\n",
    "    return new_list\n",
    "\n",
    "\n",
    "first_list = set(generate_list(10, 10))\n",
    "second_list = set(generate_list(10, 10))\n",
    "third_list = list(set.intersection(first_list, second_list))\n",
    "print(f\"List with intersection: {third_list}\")"
   ]
  },
  {
   "cell_type": "code",
   "execution_count": null,
   "id": "b43a84d2",
   "metadata": {},
   "outputs": [],
   "source": [
    "def fill_list(arg, val_1 = 7, val_2 = 5):\n",
    "    i = 0\n",
    "    new_list = []  \n",
    "    calc_list = []\n",
    "    while i < arg:\n",
    "        new_list.append(i+1)\n",
    "       \n",
    "        if (new_list[i] % val_1) == 0 and (new_list[i] % val_2) != 0:\n",
    "            calc_list.append(new_list[i])\n",
    "\n",
    "        i += 1\n",
    "    return new_list, calc_list\n",
    "\n",
    "integer_list, result = fill_list(100, 7, 5)\n",
    "print(integer_list)\n",
    "print(f\"List that are divisible by 7 but not a multiple of 5: {result}\")\n"
   ]
  },
  {
   "cell_type": "code",
   "execution_count": null,
   "id": "b4f21508",
   "metadata": {},
   "outputs": [],
   "source": []
  },
  {
   "cell_type": "code",
   "execution_count": null,
   "id": "790a2a88",
   "metadata": {},
   "outputs": [],
   "source": [
    "[(x, y) for x in range(1, 11) for y in [3,1,4] if x != y]"
   ]
  },
  {
   "cell_type": "code",
   "execution_count": null,
   "id": "94f4fef2",
   "metadata": {},
   "outputs": [],
   "source": [
    "# перебрати кортеж, на ітерації узяти елемент з кортежу, перевірити його входження у список і додати до словника\n",
    "\n",
    "def build_tulip(arg):\n",
    "    for x in arg:\n",
    "        item_dict.update({x: item_list.count(x)})\n",
    "\n",
    "item_str = \"It is a long established fact that a reader will be distracted by the readable content of a page when looking at its layout. The point of using Lorem Ipsum is that it has a more-or-less normal distribution of letters, as opposed to using 'Content here, content here', making it look like readable English. Many desktop publishing packages and web page editors now use Lorem Ipsum as their default model text, and a search for 'lorem ipsum' will uncover many web sites still in their infancy. Various versions have evolved over the years, sometimes by accident, sometimes on purpose.\"\n",
    "\n",
    "# видаляємо коми і крапки та приводимо слова до єдиного реєстру\n",
    "item_list = item_str.replace(\",\", \"\").replace(\".\", \"\").lower().split()\n",
    "item_tuple = set(item_list)\n",
    "item_dict = {}\n",
    "\n",
    "build_tulip(item_tuple)\n",
    "\n",
    "print(item_str)\n",
    "print(\"-------------------------------------\")\n",
    "print(item_list)\n",
    "print(\"-------------------------------------\")\n",
    "print(item_tuple)\n",
    "print(\"-------------------------------------\")\n",
    "print(item_dict)\n"
   ]
  },
  {
   "cell_type": "code",
   "execution_count": null,
   "id": "e4452256",
   "metadata": {},
   "outputs": [],
   "source": [
    "stock = {\n",
    "    \"banana\": 6,\n",
    "    \"apple\": 0,\n",
    "    \"orange\": 32,\n",
    "    \"pear\": 15\n",
    "}\n",
    "prices = {\n",
    "    \"banana\": 4,\n",
    "    \"apple\": 2,\n",
    "    \"orange\": 1.5,\n",
    "    \"pear\": 3\n",
    "}\n",
    "\n",
    "for key, value in stock.items():\n",
    "    print(\"\\nKey: \" + key)\n",
    "    print(\"Value: \" + str(value))\n",
    "    print(\"Price: \" + str(prices[key]))\n",
    "    print(\"Total: {}\".format(value * prices[key]))\n"
   ]
  },
  {
   "cell_type": "code",
   "execution_count": null,
   "id": "e612f318",
   "metadata": {},
   "outputs": [],
   "source": [
    "print([(x, x*x) for x in range(1, 11)])\n",
    "# print(result)"
   ]
  },
  {
   "cell_type": "code",
   "execution_count": null,
   "id": "1c1124f6",
   "metadata": {},
   "outputs": [],
   "source": [
    "list_week = [\"Monday\", \"Tuesday\", \"Wednesday\", \"Thursday\", \"Friday\", \"Saturday\", \"Sunday\"]\n",
    "\n",
    "res = []\n",
    "for index, elem in enumerate(list_week):\n",
    "    res.append((elem, index+1))\n",
    "print(dict(res))\n",
    "\n",
    "res = []\n",
    "for index, elem in enumerate(list_week):\n",
    "    res.append((index+1, elem))\n",
    "print(dict(res))\n"
   ]
  },
  {
   "cell_type": "code",
   "execution_count": null,
   "id": "9546f3a9",
   "metadata": {},
   "outputs": [],
   "source": [
    "def favorite_movie(name):\n",
    "    print(f\"My favorite movie is named {name}\")\n",
    "\n",
    "favorite_movie(\"Mad Max\")\n"
   ]
  },
  {
   "cell_type": "code",
   "execution_count": null,
   "id": "e063525c",
   "metadata": {},
   "outputs": [],
   "source": [
    "def make_country(country, capital):\n",
    "    print(dict([(country, capital)]))\n",
    "\n",
    "make_country(\"Afghanistan\", \"Kabul\")\n",
    "make_country(\"Australia\", \"Canberra\")\n",
    "make_country(\"Belgium\", \"Brussels\")\n",
    "make_country(\"Estonia\", \"Tallinn\")\n",
    "    \n",
    "    "
   ]
  },
  {
   "cell_type": "code",
   "execution_count": null,
   "id": "44be486f",
   "metadata": {},
   "outputs": [],
   "source": [
    "def make_operation(operator, *args):\n",
    "    if operator == \"+\":\n",
    "        return sum(list(args))\n",
    "    elif operator == \"-\":\n",
    "        result = args[0]\n",
    "        for x in args[1:]:\n",
    "            result += -(x)\n",
    "        return result\n",
    "    elif operator == \"*\":\n",
    "        result = 1\n",
    "        for x in args:\n",
    "            result *= x\n",
    "        return result\n",
    "\n",
    "print(make_operation('+', 7, 7, 2))        # should return 16\n",
    "print(make_operation('-', 5, 5, -10, -20)) # should return 30\n",
    "print(make_operation('*', 7, 6))           # should return 42  \n",
    "    "
   ]
  },
  {
   "cell_type": "code",
   "execution_count": null,
   "id": "92288072",
   "metadata": {},
   "outputs": [],
   "source": [
    "def sum_num(a, b):\n",
    "    try:\n",
    "        sum_result = int(a) + int(b)\n",
    "        print(\"Summ\", sum_result)\n",
    "    except ValueError:\n",
    "        print(\"Error\")\n",
    "\n",
    "\n",
    "num1 = input(\"First number\")\n",
    "num2 = input(\"second number\")\n",
    "sum_num(num1, num2)"
   ]
  },
  {
   "cell_type": "code",
   "execution_count": null,
   "id": "86a1631a",
   "metadata": {},
   "outputs": [],
   "source": [
    "# ZeroDivisionError\n",
    "# ValueError\n",
    "# IndexError\n",
    "\n",
    "# Розширити написаний калькулятор добавивши до нього обробники помилок.\n",
    "\n",
    "def make_operation(operator, *args):  # серед аргументів можуть бути символи\n",
    "    # мінімальна к-сть аргумертів - 2 (вирішувати помилку IndexError) - створити власну помилку та обробити її\n",
    "    if len(args) < 2:\n",
    "        raise IndexError(\"мінімальна к-сть аргумертів - 2\")\n",
    "    \n",
    "    for x in args:\n",
    "        try:\n",
    "            if not isinstance(x, (int, float)):\n",
    "                pass\n",
    "        except ValueError:\n",
    "            break\n",
    "    \n",
    "    if operator == '+':\n",
    "        return sum(args)\n",
    "\n",
    "    elif operator == '-':\n",
    "        result = args[0]\n",
    "        for i in range(len(args) - 1):\n",
    "            result -= args[i + 1]\n",
    "        return result\n",
    "\n",
    "    elif operator == '*':\n",
    "        result = 1\n",
    "        for arg in args:\n",
    "            result *= arg\n",
    "        return result\n",
    "\n",
    "    elif operator == '/':  # ділення на нуль\n",
    "        result = args[0]\n",
    "        for i in range(len(args) - 1):\n",
    "            try:\n",
    "                result /= args[i + 1]\n",
    "            except ZeroDivisionError:\n",
    "                print('wrong number')\n",
    "        return result\n",
    "\n",
    "    else:\n",
    "        print('Wrong operator, just + or - or * or /')\n",
    "\n",
    "\n",
    "print(make_operation('/', 20, 2, 3, 0))\n",
    "print(make_operation('+', 10, 2, 2)) "
   ]
  },
  {
   "cell_type": "code",
   "execution_count": null,
   "id": "1f6e8236",
   "metadata": {},
   "outputs": [],
   "source": [
    "text_file = open(\"numbers.txt\", \"w\")\n",
    "for index in range(10):\n",
    "    text_file.write(str(index) + '\\n')\n",
    "text_file.close()\n",
    "\n",
    "text_file = open('numbers.txt', 'r')\n",
    "l = [int(line.strip()) for line in text_file]\n",
    "text_file.close()\n",
    "\n",
    "text_file = open(\"sum_numbers.txt\", \"w\")\n",
    "text_file.write(str(sum(l)))\n",
    "text_file.close()\n",
    "\n",
    "print(sum(l))\n"
   ]
  },
  {
   "cell_type": "code",
   "execution_count": null,
   "id": "a4d06c16",
   "metadata": {},
   "outputs": [],
   "source": [
    "# file = open(\"test.txt\", \"w\")\n",
    "# if input(\"Input number\") % 2 == 0:\n",
    "#     file.write(\"True\")\n",
    "# else: file.write(\"False\")\n",
    "# file.close()\n",
    "\n",
    "number = int(input(\"Input number: \"))\n",
    "\n",
    "with open(\"test.txt\", \"w\") as file:\n",
    "    if number % 2 == 0:\n",
    "        print(\"True\", file=file)\n",
    "    else:\n",
    "        print(\"False\", file=file)\n",
    "\n",
    "file.close()"
   ]
  },
  {
   "cell_type": "code",
   "execution_count": null,
   "id": "7b77f1ab",
   "metadata": {},
   "outputs": [],
   "source": [
    "# Завдання 1. # Розширити функціонал класу Shop добавивши у нього розділ знижок.\n",
    "\n",
    "class Discount:\n",
    "    def __init__(self, product, percentage):\n",
    "        self.product = product\n",
    "        self.percentage = percentage\n",
    "\n",
    "class Shop:\n",
    "    def __init__(self, name, address, type_, working_hours='9-20', employee_count=3):\n",
    "        self.name = name\n",
    "        self.address = address\n",
    "        self.shop_type = type_\n",
    "        self.working_hours = working_hours\n",
    "        self.employee_count = employee_count\n",
    "        self.discounts = {}\n",
    "\n",
    "    def change_name(self, new_name):\n",
    "        self.name = new_name\n",
    "\n",
    "    def change_address(self, new_address):\n",
    "        self.address = new_address\n",
    "\n",
    "    def set_discount(self, product, percentage):\n",
    "        discount = Discount(product, percentage)\n",
    "        self.discounts[product] = discount\n",
    "\n",
    "    def get_discount(self, product):\n",
    "        if product in self.discounts:\n",
    "            return self.discounts[product].percentage\n",
    "        else:\n",
    "            return None\n",
    "\n",
    "shop1 = Shop(name='ATB', address='Bolshaja Kolcevaja', type_='Grocery', working_hours='10-21', employee_count=7)\n",
    "\n",
    "shop1.set_discount('Cheese', 15)\n",
    "shop1.set_discount('Apple', 7)\n",
    "shop1.set_discount('Banana', 10)\n",
    "\n",
    "cheese_discount = shop1.get_discount('Cheese')\n",
    "apple_discount = shop1.get_discount('Apple')\n",
    "banana_discount = shop1.get_discount('Banana')\n",
    "\n",
    "print(shop1.name)\n",
    "print(f'Discount Cheese: {cheese_discount}%')\n",
    "print(f'Discount Apple: {apple_discount}%')\n",
    "print(f'Discount Banana: {banana_discount}%')\n",
    "\n",
    "\n",
    "\n"
   ]
  },
  {
   "cell_type": "code",
   "execution_count": null,
   "id": "eeb92d83-1fd1-49bf-b91e-4127fe39c228",
   "metadata": {},
   "outputs": [],
   "source": [
    "class UppercaseException(Exception):\n",
    "    pass\n",
    "words = ['eeenie', 'meenie', 'miny', 'MO']\n",
    "for word in words:\n",
    "    if word.isupper():\n",
    "        raise UppercaseException(word)"
   ]
  },
  {
   "cell_type": "code",
   "execution_count": 1,
   "id": "eef8e3cd-4fad-4c20-8e19-931705a2d368",
   "metadata": {},
   "outputs": [
    {
     "name": "stdout",
     "output_type": "stream",
     "text": [
      "Ivan\n"
     ]
    },
    {
     "ename": "TypeError",
     "evalue": "D.test.<locals>.test1() missing 1 required positional argument: 'self'",
     "output_type": "error",
     "traceback": [
      "\u001b[0;31m---------------------------------------------------------------------------\u001b[0m",
      "\u001b[0;31mTypeError\u001b[0m                                 Traceback (most recent call last)",
      "Cell \u001b[0;32mIn[1], line 14\u001b[0m\n\u001b[1;32m     11\u001b[0m         test1()\n\u001b[1;32m     13\u001b[0m launch \u001b[39m=\u001b[39m D()\n\u001b[0;32m---> 14\u001b[0m launch\u001b[39m.\u001b[39;49mtest()\n",
      "Cell \u001b[0;32mIn[1], line 11\u001b[0m, in \u001b[0;36mD.test\u001b[0;34m(self)\u001b[0m\n\u001b[1;32m      8\u001b[0m \u001b[39mdef\u001b[39;00m \u001b[39mtest1\u001b[39m(\u001b[39mself\u001b[39m):\n\u001b[1;32m      9\u001b[0m     \u001b[39mprint\u001b[39m(\u001b[39mself\u001b[39m\u001b[39m.\u001b[39mname)  \u001b[39m# не работает\u001b[39;00m\n\u001b[0;32m---> 11\u001b[0m test1()\n",
      "\u001b[0;31mTypeError\u001b[0m: D.test.<locals>.test1() missing 1 required positional argument: 'self'"
     ]
    }
   ],
   "source": [
    "class D:\n",
    "    def __init__(self):\n",
    "        self.name = \"Ivan\"\n",
    "\n",
    "    def test(self):\n",
    "        print(self.name)\n",
    "\n",
    "        def test1(self):\n",
    "            print(self.name)  # не работает\n",
    "\n",
    "        test1()\n",
    "\n",
    "launch = D()\n",
    "launch.test()"
   ]
  },
  {
   "cell_type": "code",
   "execution_count": 18,
   "id": "4a4b444e-6a1c-428b-b2df-ac20ad57e70c",
   "metadata": {},
   "outputs": [
    {
     "name": "stdout",
     "output_type": "stream",
     "text": [
      "S.H\n"
     ]
    }
   ],
   "source": [
    "def abbrev_name(name):\n",
    "    a = name.split(\" \")\n",
    "    a = a[0][0].upper()+\".\"+a[1][0].upper()\n",
    "    return a\n",
    "\n",
    "abbrev_name(\"sam harris\")"
   ]
  },
  {
   "cell_type": "code",
   "execution_count": 22,
   "id": "c139839c-a1de-4f6e-92e0-750ddb049d43",
   "metadata": {},
   "outputs": [
    {
     "name": "stdout",
     "output_type": "stream",
     "text": [
      "dlrow\n"
     ]
    }
   ],
   "source": [
    "def solution(string):\n",
    "    str = \"\"\n",
    "    for i in string:\n",
    "        str = i + str\n",
    "    print(str)\n",
    "solution('world')"
   ]
  },
  {
   "cell_type": "code",
   "execution_count": 35,
   "id": "8e6bbf64-5278-40eb-9ca8-016af71d2b88",
   "metadata": {},
   "outputs": [
    {
     "data": {
      "text/plain": [
       "'1 sheep...+1 sheep...2 sheep...+2 sheep...'"
      ]
     },
     "execution_count": 35,
     "metadata": {},
     "output_type": "execute_result"
    }
   ],
   "source": [
    "def count_sheep(n):\n",
    "    return \"\".join([f\"{x+1} sheep...+{x+1} sheep...\" for x in range(n)])\n",
    "    \n",
    "count_sheep(2)"
   ]
  },
  {
   "cell_type": "code",
   "execution_count": 50,
   "id": "fc847388-1a94-4b99-acd6-d1b185dae311",
   "metadata": {},
   "outputs": [
    {
     "name": "stdout",
     "output_type": "stream",
     "text": [
      "84\n"
     ]
    }
   ],
   "source": [
    "def century(year):\n",
    "    if year > 999:\n",
    "        if year % 100 == 0:\n",
    "            return year / 100\n",
    "        else:\n",
    "            return year // 100 + 1\n",
    "    elif year > 99:\n",
    "        if year % 100 == 0:\n",
    "            return year / 100\n",
    "        else: \n",
    "            print(round(year / 100))\n",
    "            return year // 100 + 1\n",
    "    else: \n",
    "        return 1\n",
    "    \n",
    "print(century(8371))"
   ]
  },
  {
   "cell_type": "code",
   "execution_count": 53,
   "id": "f3e9c750-8b6e-4726-869b-03a91dbee4d4",
   "metadata": {},
   "outputs": [
    {
     "name": "stdout",
     "output_type": "stream",
     "text": [
      "-42\n"
     ]
    }
   ],
   "source": [
    "def make_negative(number):\n",
    "    if number > 0:\n",
    "        return number * (-1)\n",
    "    else:\n",
    "        return number\n",
    "    \n",
    "print(make_negative(42))"
   ]
  },
  {
   "cell_type": "code",
   "execution_count": 61,
   "id": "a2e198d0-5605-417e-b462-9fa0b2589cb1",
   "metadata": {},
   "outputs": [
    {
     "name": "stdout",
     "output_type": "stream",
     "text": [
      "Ths wbst s fr lsrs LL!\n"
     ]
    }
   ],
   "source": [
    "def disemvowel(string_):\n",
    "    str = [x for x in string_ if (x.upper() != \"A\" and x.upper() != \"E\" and x.upper() != \"I\" and x.upper() != \"O\" and x.upper() != \"U\")]\n",
    "    return(''.join(str))\n",
    "    \n",
    "disemvowel(\"This website is for losers LOL!\")"
   ]
  },
  {
   "cell_type": "code",
   "execution_count": 68,
   "id": "1335e669-05df-44f8-9fde-122270e5d82b",
   "metadata": {},
   "outputs": [
    {
     "data": {
      "text/plain": [
       "811181"
      ]
     },
     "execution_count": 68,
     "metadata": {},
     "output_type": "execute_result"
    }
   ],
   "source": [
    "def square_digits(num):\n",
    "    str_1 = str(num)\n",
    "    str_1 = [str(int(x)*int(x)) for x in str_1]\n",
    "    return int(\"\".join(str_1))\n",
    "\n",
    "square_digits(9119)"
   ]
  },
  {
   "cell_type": "code",
   "execution_count": 13,
   "id": "fc1d1876-02e4-43d3-96a5-9c6e1923f0fe",
   "metadata": {},
   "outputs": [
    {
     "data": {
      "text/plain": [
       "[5, 3, 2, 4]"
      ]
     },
     "execution_count": 13,
     "metadata": {},
     "output_type": "execute_result"
    }
   ],
   "source": [
    "def remove_smallest(numbers):\n",
    "    if len(numbers) == 0:\n",
    "        return numbers\n",
    "    else:\n",
    "        arr = numbers\n",
    "        arr.remove(min(numbers))\n",
    "        return arr\n",
    "    \n",
    "remove_smallest([5, 3, 2, 1, 4])"
   ]
  },
  {
   "cell_type": "code",
   "execution_count": 18,
   "id": "54d98c05-19d3-422e-8d79-6a0a2895eae5",
   "metadata": {},
   "outputs": [
    {
     "data": {
      "text/plain": [
       "'42 -9'"
      ]
     },
     "execution_count": 18,
     "metadata": {},
     "output_type": "execute_result"
    }
   ],
   "source": [
    "def high_and_low(numbers):\n",
    "    my_list = numbers.split(\" \")\n",
    "    my_list = [int(x) for x in my_list]\n",
    "    return str(max(my_list)) + \" \" + str(min(my_list))\n",
    "\n",
    "high_and_low(\"8 3 -5 42 -1 0 0 -9 4 7 4 -4\")"
   ]
  },
  {
   "cell_type": "code",
   "execution_count": 12,
   "id": "935c230d-6038-4656-96ab-d8d95f99a4d5",
   "metadata": {},
   "outputs": [
    {
     "data": {
      "text/plain": [
       "5"
      ]
     },
     "execution_count": 12,
     "metadata": {},
     "output_type": "execute_result"
    }
   ],
   "source": [
    "def number(bus_stops):\n",
    "    k = 0\n",
    "    for i, j in bus_stops:\n",
    "        k = k + i - j\n",
    "    return k\n",
    "\n",
    "\n",
    "number([[10,0],[3,5],[5,8]])"
   ]
  },
  {
   "cell_type": "code",
   "execution_count": 17,
   "id": "ae0bfdc6-25ee-4191-8fae-a013a8feecc6",
   "metadata": {},
   "outputs": [
    {
     "data": {
      "text/plain": [
       "9"
      ]
     },
     "execution_count": 17,
     "metadata": {},
     "output_type": "execute_result"
    }
   ],
   "source": [
    "def simple_multiplication(n) :\n",
    "    return n * (8 + n%2)\n",
    "\n",
    "simple_multiplication(1)"
   ]
  },
  {
   "cell_type": "code",
   "execution_count": 19,
   "id": "51624c83-20e9-463b-a262-4de84541aa1f",
   "metadata": {},
   "outputs": [
    {
     "data": {
      "text/plain": [
       "[2, 4, 6, 8, 10]"
      ]
     },
     "execution_count": 19,
     "metadata": {},
     "output_type": "execute_result"
    }
   ],
   "source": [
    "def count_by(x, n):\n",
    "    return list(range(x, n*x+x, x))\n",
    "\n",
    "count_by(2, 5)"
   ]
  },
  {
   "cell_type": "code",
   "execution_count": 20,
   "id": "5536c53c-b744-46d0-83ba-28052f23532e",
   "metadata": {},
   "outputs": [
    {
     "ename": "SyntaxError",
     "evalue": "invalid non-printable character U+200B (1671599655.py, line 3)",
     "output_type": "error",
     "traceback": [
      "\u001b[0;36m  Cell \u001b[0;32mIn[20], line 3\u001b[0;36m\u001b[0m\n\u001b[0;31m    ​\u001b[0m\n\u001b[0m    ^\u001b[0m\n\u001b[0;31mSyntaxError\u001b[0m\u001b[0;31m:\u001b[0m invalid non-printable character U+200B\n"
     ]
    }
   ],
   "source": [
    "# We want to extend the usability of the Celsius class defined above. We know that the\n",
    "# temperature of any object cannot reach below -273.15 degrees Celsius (Absolute Zero in Thermodynamics)\n",
    "​\n",
    "​\n",
    "class Celsius:\n",
    "    _m = 1.8\n",
    "    _n = 32\n",
    "​\n",
    "    def __init__(self, temperature=0):\n",
    "        self._temperature = temperature\n",
    "​\n",
    "    @property\n",
    "    def temperature(self):\n",
    "        return f'{self._temperature} C*'\n",
    "​\n",
    "    @temperature.setter\n",
    "    def temperature(self, value):\n",
    "        if value >= -273.15:\n",
    "            self._temperature = value\n",
    "        else:\n",
    "            print('Too low temperature')\n",
    "​\n",
    "    @temperature.deleter\n",
    "    def temperature(self):\n",
    "        self._temperature = 0\n",
    "​\n",
    "    def to_fahrenheit(self):\n",
    "        return self._temperature * self._m + self._n\n",
    "​\n",
    "    @staticmethod\n",
    "    def absolute_zero():\n",
    "        return -273.15\n",
    "​\n",
    "    @classmethod\n",
    "    def modify_m(cls, new_value):\n",
    "        if new_value > 1:\n",
    "            cls._m = new_value\n",
    "​\n",
    "​\n",
    "​\n",
    "c = Celsius(10)\n",
    "c.temperature = - 10000\n",
    "print(c.temperature)\n",
    "print(c.to_fahrenheit())\n",
    "del c.temperature\n",
    "print(c.temperature)\n",
    "print(Celsius.absolute_zero())"
   ]
  },
  {
   "cell_type": "code",
   "execution_count": 43,
   "id": "26bfc8b2-a851-4956-85cc-07445b83674d",
   "metadata": {},
   "outputs": [
    {
     "name": "stdout",
     "output_type": "stream",
     "text": [
      "[17, 17]\n",
      "[137676, 137676]\n",
      "[17, 2]\n",
      "[7, 0]\n",
      "[9, 1]\n"
     ]
    }
   ],
   "source": [
    "def max_and_min(arr1, arr2):\n",
    "    r1 = max(max(arr1) - min(arr2), max(arr2) - min(arr1))\n",
    "    r2 = float('inf')\n",
    " \n",
    "    for i in arr1:\n",
    "        for j in arr2:\n",
    "            k = abs(i - j)\n",
    "            if k < r2:\n",
    "                r2 = k\n",
    "    \n",
    "    return [r1, r2]\n",
    "\n",
    "print(max_and_min([3],[20]))\n",
    "print(max_and_min([139473],[1797]))\n",
    "print(max_and_min([3,10,5],[20,7,15,8]))\n",
    "print(max_and_min([3,10,5],[3,10,5]))\n",
    "print(max_and_min([1,2,3,4,5],[6,7,8,9,10]))\n"
   ]
  },
  {
   "cell_type": "code",
   "execution_count": 44,
   "id": "a54975ee-5417-4d6e-9ae4-36e1ccfa0105",
   "metadata": {},
   "outputs": [
    {
     "name": "stdout",
     "output_type": "stream",
     "text": [
      "[17, 17]\n",
      "[137676, 137676]\n",
      "[17, 2]\n",
      "[7, 0]\n",
      "[9, 1]\n"
     ]
    }
   ],
   "source": [
    "def max_and_min(arr1,arr2):\n",
    "    diffs = [abs(x-y) for x in arr1 for y in arr2]\n",
    "    return [max(diffs), min(diffs)]\n",
    "\n",
    "print(max_and_min([3],[20]))\n",
    "print(max_and_min([139473],[1797]))\n",
    "print(max_and_min([3,10,5],[20,7,15,8]))\n",
    "print(max_and_min([3,10,5],[3,10,5]))\n",
    "print(max_and_min([1,2,3,4,5],[6,7,8,9,10]))"
   ]
  },
  {
   "cell_type": "code",
   "execution_count": 7,
   "id": "34c2a6f1-62fe-468e-a864-c96de426b436",
   "metadata": {},
   "outputs": [
    {
     "data": {
      "text/plain": [
       "False"
      ]
     },
     "execution_count": 7,
     "metadata": {},
     "output_type": "execute_result"
    }
   ],
   "source": [
    "def solution(text, ending):\n",
    "    return True if text[-(len(ending)):] == ending else False\n",
    "\n",
    "    \n",
    "solution('abc', 'bc') # returns true\n",
    "solution('abc', 'd') # returns false"
   ]
  },
  {
   "cell_type": "code",
   "execution_count": 19,
   "id": "b099b51d-ee63-4190-98af-4566538ce4f0",
   "metadata": {},
   "outputs": [
    {
     "name": "stdout",
     "output_type": "stream",
     "text": [
      "[20, 37, 21]\n"
     ]
    }
   ],
   "source": [
    "def delete_nth(order,max_e):\n",
    "    order.reverse()\n",
    "    for i in tuple(order):\n",
    "        while order.count(i) > max_e:\n",
    "            order.remove(i)\n",
    "    order.reverse()\n",
    "    return order\n",
    "    \n",
    "print(delete_nth([20,37,20,21], 1))\n",
    "# my_list.count(item) - отримання кількості входжень елементу item в списку.\n",
    "# my_list.pop() - видалення та повернення останнього елементу списку (як вилучення з вершини стеку).\n",
    "# my_list.remove(item) - видалення першого входження елементу item.\n",
    "# my_list.reverse() - змінює список на зворотний порядок."
   ]
  },
  {
   "cell_type": "code",
   "execution_count": 24,
   "id": "2050b5aa-8918-42e2-848c-06acb6fb7c06",
   "metadata": {},
   "outputs": [
    {
     "data": {
      "text/plain": [
       "False"
      ]
     },
     "execution_count": 24,
     "metadata": {},
     "output_type": "execute_result"
    }
   ],
   "source": [
    "def xo(s):\n",
    "    s.split\n",
    "    return s.count(\"x\") == s.count(\"o\")\n",
    "\n",
    "xo(\"xxooo\")"
   ]
  },
  {
   "cell_type": "code",
   "execution_count": 4,
   "id": "9d8f4a95-7d62-477f-b144-9ea3bb45289a",
   "metadata": {},
   "outputs": [
    {
     "name": "stdout",
     "output_type": "stream",
     "text": [
      "361\n"
     ]
    }
   ],
   "source": [
    "from copy import deepcopy\n",
    "class MySquareIterator:\n",
    "    \n",
    "    def __init__(self, _from, _to, step=1):\n",
    "        self.ind = _from\n",
    "        self.ind_item = _from\n",
    "        self.to = _to\n",
    "        self.step = step\n",
    "        \n",
    "    def __iter__(self):\n",
    "        return self\n",
    "    \n",
    "    def __next__(self):\n",
    "        if self.ind > self.to:\n",
    "            raise StopIteration\n",
    "        val = self.ind ** 2\n",
    "        self.ind += self.step\n",
    "        return val\n",
    "\n",
    "    def __getitem__(self, item):\n",
    "        return (self.ind_item + (item - 1) * self.step) ** 2\n",
    "\n",
    "    def seek(self):\n",
    "        self.ind = deepcopy(self.ind_item)\n",
    "\n",
    "c = MySquareIterator(1, 10, 2) # 1 3 5 7 9 11 13 15 17 19\n",
    "print(c[10])"
   ]
  },
  {
   "cell_type": "code",
   "execution_count": null,
   "id": "c574f355-c26c-4116-9ba1-fb3ad4354f68",
   "metadata": {},
   "outputs": [],
   "source": [
    "# Створити власний цикл for який додатково буде виконувати певну операцію\n",
    "# над елементами ітерованого об'єкту\n",
    "# Примітки:\n",
    "# не використовувати цикл for\n",
    "# ВИКОРИСТАТИ iter(), next(), StopIteration\n",
    "\n",
    "from copy import deepcopy\n",
    "from math import sqrt\n",
    "\n",
    "def custom_for()\n",
    "    \n",
    "    def __init__(self, _from, _to, step=1):\n",
    "        self.ind = _from\n",
    "        self.ind_item = _from\n",
    "        self.to = _to\n",
    "        self.step = step\n",
    "        \n",
    "    def __iter__(self):\n",
    "        return self\n",
    "    \n",
    "    def __next__(self):\n",
    "        if self.ind > self.to:\n",
    "            raise StopIteration\n",
    "        val = self.ind ** 2\n",
    "        self.ind += self.step\n",
    "        return val\n",
    "\n",
    "    def __getitem__(self, item):\n",
    "        return (self.ind_item + (item - 1) * self.step) ** 2\n",
    "\n",
    "    def seek(self):\n",
    "        self.ind = deepcopy(self.ind_item)"
   ]
  },
  {
   "cell_type": "code",
   "execution_count": 37,
   "id": "702bc9d1",
   "metadata": {},
   "outputs": [
    {
     "name": "stdout",
     "output_type": "stream",
     "text": [
      "(#-=)\n",
      "(!_/)\n",
      "(^@/)\n",
      "<--->\n",
      "(=@?)\n"
     ]
    }
   ],
   "source": [
    "#  Створити генератор текстових емоджі. Емоджі мають починатись там закінчуватись \n",
    "# дужками одного й\n",
    "# # того самого типу, в середині містити 3 рандомних символи !@#$^*_-=+?/,.:;~.\n",
    "\n",
    "import random\n",
    "\n",
    "def emo_gen(obj1, obj2):\n",
    "    while True:\n",
    "        a = \"\".join([random.choice(obj1) for i in range(1,4)])\n",
    "        b = random.choice(obj2)\n",
    "        yield f\"{b[0]}{a}{b[1]}\"\n",
    "\n",
    "s = emo_gen(\"!@#$^*_-=+?/,.:;~\", [(\"(\", \")\"), (\"<\", \">\"), (\"[\", \"]\"), (\"{\", \"}\")])\n",
    "for _ in range(5):\n",
    "    print(next(s))"
   ]
  },
  {
   "cell_type": "code",
   "execution_count": 41,
   "id": "bc7c812e",
   "metadata": {},
   "outputs": [
    {
     "data": {
      "text/plain": [
       "[1, 3, 2, 8, 5, 4]"
      ]
     },
     "execution_count": 41,
     "metadata": {},
     "output_type": "execute_result"
    }
   ],
   "source": [
    "def sort_array(source_array):\n",
    "    arr = [i for i in source_array if i%2 != 0]\n",
    "    arr.sort(reverse=True)\n",
    "    for x in range(len(source_array)):\n",
    "        if source_array[x]%2 != 0:\n",
    "            source_array[x] = arr.pop()\n",
    "    return source_array\n",
    "            \n",
    "    \n",
    "    \n",
    "sort_array([5, 3, 2, 8, 1, 4])"
   ]
  },
  {
   "cell_type": "code",
   "execution_count": 58,
   "id": "d760501e-802b-471a-8c69-998dac1d5093",
   "metadata": {},
   "outputs": [
    {
     "data": {
      "text/plain": [
       "987654321"
      ]
     },
     "execution_count": 58,
     "metadata": {},
     "output_type": "execute_result"
    }
   ],
   "source": [
    "def descending_order(num):\n",
    "    num = str(num)\n",
    "    num = ''.join(sorted(num, reverse=True))\n",
    "    return int(num)\n",
    "\n",
    "descending_order(123456789)"
   ]
  },
  {
   "cell_type": "code",
   "execution_count": 97,
   "id": "3838611b-8b88-4563-a2da-10b1460070cc",
   "metadata": {},
   "outputs": [
    {
     "data": {
      "text/plain": [
       "'20 8 5 19 21 14 19 5 20 19 5 20 19 1 20 20 23 5 12 22 5 15 3 12 15 3 11'"
      ]
     },
     "execution_count": 97,
     "metadata": {},
     "output_type": "execute_result"
    }
   ],
   "source": [
    "def alphabet_position(text):\n",
    "    ascii = 'abcdefghijklmnopqrstuvwxyz'\n",
    "    return ' '.join([str(1 + ascii.index(x.lower())) for x in text if x.lower() in ascii])\n",
    "\n",
    "    \n",
    "\n",
    "alphabet_position(\"The sunset sets at twelve o' clock.\")"
   ]
  },
  {
   "cell_type": "code",
   "execution_count": 129,
   "id": "15fc718d-3380-4cc1-9e7b-497819116a9b",
   "metadata": {},
   "outputs": [],
   "source": [
    "class CheckEmail():\n",
    "\n",
    "    def __init__(self, e_mail : str) -> None:\n",
    "        self.e_mail = e_mail\n",
    "        self.validate()\n",
    "\n",
    "    def validate(self):\n",
    "        invalid_list = ['!', '#', '$', '%', '&', '~', '=', ',', '`', '..', '-@', '(', ')', ':', ';', '\\\\', '\"', '<', '>', ' ']\n",
    "        # Перевірка на кількість знаків @, повинен бути лише один, по ньому ми поділимо адресу\n",
    "        if self.e_mail.count(\"@\") != 1:\n",
    "            raise ValueError('Wrong email name, \"@\" must used once')\n",
    "        # Ділимо адресу у список для подальшої перевірки як окремими елементами, бо частини мають різні вимоги\n",
    "        mail_list = self.e_mail.split(\"@\")\n",
    "        if mail_list[1].count(\".\") != 1:\n",
    "            raise ValueError('Wrong email name with \".\"')\n",
    "        else:\n",
    "            mail_list.extend(mail_list.pop(1).split(\".\"))\n",
    "        # Перевірка на кількість символів доменної частини\n",
    "        if len(mail_list[2]) < 2 or len(mail_list[1]) < 4:\n",
    "            raise ValueError('The last portion of the domain must be at least two characters')\n",
    "        # Перевірка на відсутність спеціальних символів у назвах\n",
    "        for x in invalid_list:\n",
    "            if x in mail_list[1] or x in mail_list[2]:\n",
    "                raise ValueError(f'Wrong email name, used \"{x}\"')\n",
    "        # Перевірка на відсутність \"-\" у початках в назвах\n",
    "        for x in mail_list:\n",
    "            if x[0] == \"-\":\n",
    "                raise ValueError(f'Wrong email name, used \"-\" like first symbol')\n",
    "        # Перевірка назви на основні вимоги\n",
    "        if mail_list[0][0] == '\"' and mail_list[0][-1] == '\"':\n",
    "            return self.e_mail  \n",
    "        else:    \n",
    "            for x in invalid_list:\n",
    "                if x in mail_list[0]:\n",
    "                    raise ValueError(f'Wrong email name, used \"{x}\"')\n",
    "        return self.e_mail\n",
    "\n",
    "if __name__ == \"__main__\":\n",
    "    try:\n",
    "        a = CheckEmail('apo$geet@gmail.com')\n",
    "    except ValueError as e:\n",
    "        print(f'Invalid email: {e}')"
   ]
  },
  {
   "cell_type": "code",
   "execution_count": 32,
   "id": "8af6ab13-fbc5-41f8-9868-e0245832829d",
   "metadata": {},
   "outputs": [
    {
     "name": "stdout",
     "output_type": "stream",
     "text": [
      "Inside the context\n",
      "None\n"
     ]
    }
   ],
   "source": []
  },
  {
   "cell_type": "code",
   "execution_count": null,
   "id": "f69721e4-bb49-487e-a648-9e9cbdb590eb",
   "metadata": {},
   "outputs": [],
   "source": []
  }
 ],
 "metadata": {
  "kernelspec": {
   "display_name": "Python 3 (ipykernel)",
   "language": "python",
   "name": "python3"
  },
  "language_info": {
   "codemirror_mode": {
    "name": "ipython",
    "version": 3
   },
   "file_extension": ".py",
   "mimetype": "text/x-python",
   "name": "python",
   "nbconvert_exporter": "python",
   "pygments_lexer": "ipython3",
   "version": "3.10.9"
  }
 },
 "nbformat": 4,
 "nbformat_minor": 5
}
